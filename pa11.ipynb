{
 "cells": [
  {
   "cell_type": "markdown",
   "id": "e5a26143",
   "metadata": {},
   "source": [
    "### Q1. What is the concept of a metaclass?\n",
    "\n",
    "A metaclass is a class that defines the behavior of other classes. In Python, every class has a metaclass, which by default is the type class. The type class is responsible for creating new classes, and it defines the behavior of classes, such as how they are created, what methods they have, and how they inherit from other classes."
   ]
  },
  {
   "cell_type": "markdown",
   "id": "001dc4d0",
   "metadata": {},
   "source": [
    "#### Q2. What is the best way to declare a class metaclass?\n",
    "class MyMetaclass(type):\n",
    "    pass\n",
    "\n",
    "class MyClass(metaclass=MyMetaclass):\n",
    "    pass\n",
    "++++++++++++++++++++++++++++++++++++++++++++++++++++++++++++++++++++++++++++++++++++++++++++++++++++++++++++++++++++++++++++++++\n",
    "\n",
    "class MyMetaclass(type):\n",
    "    \n",
    "    pass\n",
    "    \n",
    "\n",
    "class MyClass:\n",
    "\n",
    "    __metaclass__ = MyMetaclass\n"
   ]
  },
  {
   "cell_type": "markdown",
   "id": "2b1335bf",
   "metadata": {},
   "source": [
    "#### Q3. How do class decorators overlap with metaclasses for handling classes?\n",
    "\n",
    "Both class decorators and metaclasses can be used to customize the behavior of classes in Python, but they have different use cases. Class decorators are mainly used to add functionality to a class, while metaclasses are used to define the behavior of all classes that inherit from it, this means metaclasses are used to customize the behavior of a family of classes.\n",
    "\n",
    "In practice, class decorators are often used in conjunction with metaclasses. A class decorator can be used to modify a class, and then a metaclass can be used to define the behavior of the modified class and all its subclasses."
   ]
  },
  {
   "cell_type": "code",
   "execution_count": null,
   "id": "a89750d7",
   "metadata": {},
   "outputs": [],
   "source": []
  }
 ],
 "metadata": {
  "kernelspec": {
   "display_name": "Python 3 (ipykernel)",
   "language": "python",
   "name": "python3"
  },
  "language_info": {
   "codemirror_mode": {
    "name": "ipython",
    "version": 3
   },
   "file_extension": ".py",
   "mimetype": "text/x-python",
   "name": "python",
   "nbconvert_exporter": "python",
   "pygments_lexer": "ipython3",
   "version": "3.9.12"
  }
 },
 "nbformat": 4,
 "nbformat_minor": 5
}
